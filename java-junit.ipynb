{
 "cells": [
  {
   "cell_type": "code",
   "execution_count": 1,
   "id": "5e45f59a-ab05-4801-ab2c-887485bd8c19",
   "metadata": {},
   "outputs": [],
   "source": [
    "import os\n",
    "import openai  # for calling the OpenAI API\n",
    " \n",
    "openai.api_key = os.environ[\"OPENAI_API_KEY\"]\n",
    "\n",
    "# models\n",
    "EMBEDDING_MODEL = \"text-embedding-ada-002\"\n",
    "GPT_MODEL = \"gpt-3.5-turbo\"\n",
    "\n",
    "\n"
   ]
  },
  {
   "cell_type": "code",
   "execution_count": 2,
   "id": "b1724cb2-a38e-4165-a351-7aad14d6486d",
   "metadata": {},
   "outputs": [],
   "source": [
    "from langchain.prompts.chat import ChatPromptTemplate\n",
    "from langchain.schema.output_parser import StrOutputParser\n",
    "from langchain.chat_models import ChatOpenAI\n",
    "from langchain.chains import LLMChain\n",
    "\n",
    "\n",
    "template = \"You are a helpful assistant that generates JUNIT java code based on given java code. \\\n",
    "Please cover edge cases and boundary conditions if possible.\\\n",
    "Make sure to add comments in Java Comment Format delimited by /*...*/ to the test files\"\n",
    "\n",
    "human_template = \"{text}\"\n",
    "\n",
    "chat_prompt = ChatPromptTemplate.from_messages([\n",
    "    (\"system\", template),\n",
    "    (\"human\", human_template),\n",
    "])\n",
    "\n",
    "llm = ChatOpenAI(model_name=GPT_MODEL)\n",
    "chain = LLMChain(llm=llm, prompt=chat_prompt)"
   ]
  },
  {
   "cell_type": "code",
   "execution_count": 3,
   "id": "6ae31bd2-9499-4419-a2a3-330b41feccc2",
   "metadata": {},
   "outputs": [
    {
     "name": "stdout",
     "output_type": "stream",
     "text": [
      "Generating test cases for junit-input/counter-interface.java\n",
      "Test cases created for junit-input/counter-interface.java and saved in junit-input/counter-interface.jnit\n",
      "Generating test cases for junit-input/DynoResource.java\n",
      "Test cases created for junit-input/DynoResource.java and saved in junit-input/DynoResource.jnit\n"
     ]
    }
   ],
   "source": [
    "import pathlib\n",
    "\n",
    "in_folder_str = \"junit-input\"\n",
    "in_folder = pathlib.Path(in_folder_str)\n",
    "\n",
    "for in_file in in_folder.iterdir():\n",
    "    if in_file.is_file():\n",
    "        in_file_str = str(in_file)\n",
    "        if \".java\" in in_file_str:\n",
    "            file_fd = open(in_file, mode='r')\n",
    "            in_contents = file_fd.read()\n",
    "            file_fd.close()\n",
    "    \n",
    "            in_file_str = str(in_file)\n",
    "            print(\"Generating test cases for \" + in_file_str)\n",
    "            out_content = chain.run({'text': in_contents})\n",
    "            \n",
    "            out_file_str = in_file_str.replace('.java', '.jnit')\n",
    "            out_file_fd = open(out_file_str, \"w\")\n",
    "            out_file_fd.write(out_content)\n",
    "            out_file_fd.close()\n",
    "            print(\"Test cases created for \" + in_file_str + \" and saved in \" + out_file_str)"
   ]
  },
  {
   "cell_type": "code",
   "execution_count": null,
   "id": "3e13284d-2956-4936-beeb-161aa38b473f",
   "metadata": {},
   "outputs": [],
   "source": []
  }
 ],
 "metadata": {
  "kernelspec": {
   "display_name": "Python 3 (ipykernel)",
   "language": "python",
   "name": "python3"
  },
  "language_info": {
   "codemirror_mode": {
    "name": "ipython",
    "version": 3
   },
   "file_extension": ".py",
   "mimetype": "text/x-python",
   "name": "python",
   "nbconvert_exporter": "python",
   "pygments_lexer": "ipython3",
   "version": "3.11.4"
  }
 },
 "nbformat": 4,
 "nbformat_minor": 5
}
